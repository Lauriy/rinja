{
 "cells": [
  {
   "cell_type": "code",
   "execution_count": 20,
   "metadata": {
    "collapsed": true,
    "pycharm": {
     "is_executing": false
    }
   },
   "outputs": [
    {
     "name": "stdout",
     "text": [
      "media/captchas/t5xo.png\nbas)cu\nmedia/captchas/texy.png\nto]\nmedia/captchas/va98.png\n\nmedia/captchas/f2c9.png\n19\nmedia/captchas/6778.png\n\nmedia/captchas/va6e.png\n\n",
      "media/captchas/SU27.png\n\nmedia/captchas/334a.png\nrelco\nmedia/captchas/uiv5.png\n\nmedia/captchas/8967.png\nbh?\nmedia/captchas/g4d7.png\nra\nmedia/captchas/uery.png\n\nmedia/captchas/wiby.png\nre\n",
      "media/captchas/rok6.png\nas\n\nors\nmedia/captchas/han4.png\nnand\nmedia/captchas/wapy.png\nos\nmedia/captchas/d2gi.png\nmre\nmedia/captchas/rida.png\nras\nmedia/captchas/ji54.png\naq\nmedia/captchas/56du.png\n\n",
      "media/captchas/8uw3.png\naes\nmedia/captchas/4uha.png\nmila)\nmedia/captchas/4953.png\n\nmedia/captchas/K462.png\nwoes\nmedia/captchas/hom4_wmQVt09.png\nrrra\nmedia/captchas/n9ty.png\n\nmedia/captchas/4563_0IgUz1S.png\ner\n",
      "media/captchas/ka34.png\nkad4,\nmedia/captchas/qi87.png\nllaaa\nmedia/captchas/6396_zm478cf.png\neis\n"
     ],
     "output_type": "stream"
    }
   ],
   "source": [
    "import os\n",
    "\n",
    "import cv2\n",
    "from tesserocr import PyTessBaseAPI, PSM, OEM\n",
    "\n",
    "file_list = set(os.listdir('media/captchas'))\n",
    "\n",
    "\n",
    "with PyTessBaseAPI() as api:\n",
    "    api.SetVariable('tessedit_char_whitelist', 'abcdefghijklmnopqrstuvwxyzABCDEFGHIJKLMNOPQRSTUVWXYZ0123456789')\n",
    "    for i in range(30):\n",
    "        filename = f'media/captchas/{file_list.pop()}'\n",
    "        img = cv2.imread(filename, cv2.IMREAD_GRAYSCALE)\n",
    "        cv2.imwrite('image1.png', img)\n",
    "        #img = cv2.resize(img, None, fx=10, fy=10, interpolation=cv2.INTER_LINEAR)\n",
    "        #cv2.imwrite('image2.png', img)\n",
    "        #img = cv2.medianBlur(img, 9)\n",
    "        img = cv2.fastNlMeansDenoising(img, None, 85, 5, 21)\n",
    "        cv2.imwrite('image2.png', img)\n",
    "        img = cv2.threshold(img, 128, 255, cv2.THRESH_BINARY_INV)[1]\n",
    "        cv2.imwrite('image3.png', img)\n",
    "        # img = cv2.fastNlMeansDenoising(img, None, 85, 5, 21)\n",
    "        # cv2.imwrite('image4.png', img)\n",
    "        # img = cv2.fastNlMeansDenoising(img, None, 85, 5, 21)\n",
    "        # cv2.imwrite('image5.png', img)\n",
    "        # img = cv2.threshold(img, 33, 255, cv2.THRESH_BINARY_INV)[1]\n",
    "        # cv2.imwrite('image6.png', img)\n",
    "        # img = cv2.dilate(img, None)\n",
    "        # cv2.imwrite('image7.png', img)\n",
    "        #th, img = cv2.threshold(img, 185, 255, cv2.THRESH_BINARY)\n",
    "        #cv2.imwrite('image4.png', img)\n",
    "        api.SetImageFile('image3.png')\n",
    "        captcha_text = api.GetUTF8Text().replace(' ', '').rstrip().lower()\n",
    "        print(filename)\n",
    "        print(captcha_text)"
   ]
  }
 ],
 "metadata": {
  "kernelspec": {
   "name": "python3",
   "language": "python",
   "display_name": "Python 3"
  },
  "language_info": {
   "codemirror_mode": {
    "name": "ipython",
    "version": 2
   },
   "file_extension": ".py",
   "mimetype": "text/x-python",
   "name": "python",
   "nbconvert_exporter": "python",
   "pygments_lexer": "ipython2",
   "version": "2.7.6"
  },
  "pycharm": {
   "stem_cell": {
    "cell_type": "raw",
    "source": [],
    "metadata": {
     "collapsed": false
    }
   }
  }
 },
 "nbformat": 4,
 "nbformat_minor": 0
}
