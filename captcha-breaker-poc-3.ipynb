{
 "cells": [
  {
   "cell_type": "code",
   "execution_count": 117,
   "metadata": {
    "collapsed": true,
    "pycharm": {
     "is_executing": false
    }
   },
   "outputs": [
    {
     "name": "stdout",
     "text": [
      "['6ofa.png', 'juc8.png', '9ah2.png', '25g3.png', 'fu37.png']\n"
     ],
     "output_type": "stream"
    }
   ],
   "source": [
    "import os\n",
    "from random import sample\n",
    "\n",
    "import cv2\n",
    "from matplotlib import pyplot as plt\n",
    "\n",
    "random_subset = sample(os.listdir('media/captchas'), 5)\n",
    "print(random_subset)"
   ]
  },
  {
   "cell_type": "code",
   "execution_count": 118,
   "outputs": [],
   "source": [
    "def clean_up_single_image(path):\n",
    "    img = cv2.imread(path, cv2.IMREAD_GRAYSCALE)\n",
    "    # There are never letters before x 50 and never after x 150, crop\n",
    "    img = img[0:50, 50:150]\n",
    "    img = cv2.fastNlMeansDenoising(img, None, 85, 5, 21)\n",
    "    img = cv2.threshold(img, 128, 255, cv2.THRESH_BINARY_INV)[1]\n",
    "    \n",
    "    return img"
   ],
   "metadata": {
    "collapsed": false,
    "pycharm": {
     "name": "#%%\n",
     "is_executing": false
    }
   }
  },
  {
   "cell_type": "code",
   "execution_count": 119,
   "outputs": [
    {
     "data": {
      "text/plain": "<matplotlib.image.AxesImage at 0x7fb083a74290>"
     },
     "metadata": {},
     "output_type": "execute_result",
     "execution_count": 119
    },
    {
     "data": {
      "text/plain": "<Figure size 432x288 with 1 Axes>",
      "image/png": "[encoded data removed]"
     },
     "metadata": {
      "needs_background": "light"
     },
     "output_type": "display_data"
    }
   ],
   "source": [
    "cleaned_0 = clean_up_single_image('media/captchas/' + random_subset[0])\n",
    "plt.imshow(cleaned_0)"
   ],
   "metadata": {
    "collapsed": false,
    "pycharm": {
     "name": "#%%\n",
     "is_executing": false
    }
   }
  },
  {
   "cell_type": "code",
   "execution_count": 120,
   "outputs": [
    {
     "data": {
      "text/plain": "<matplotlib.image.AxesImage at 0x7fb0839e0b10>"
     },
     "metadata": {},
     "output_type": "execute_result",
     "execution_count": 120
    },
    {
     "data": {
      "text/plain": "<Figure size 432x288 with 1 Axes>",
      "image/png": "[encoded data removed]"
     },
     "metadata": {
      "needs_background": "light"
     },
     "output_type": "display_data"
    }
   ],
   "source": [
    "cleaned_1 = clean_up_single_image('media/captchas/' + random_subset[1])\n",
    "plt.imshow(cleaned_1)"
   ],
   "metadata": {
    "collapsed": false,
    "pycharm": {
     "name": "#%%\n",
     "is_executing": false
    }
   }
  },
  {
   "cell_type": "code",
   "execution_count": 121,
   "outputs": [
    {
     "data": {
      "text/plain": "<matplotlib.image.AxesImage at 0x7fb083981250>"
     },
     "metadata": {},
     "output_type": "execute_result",
     "execution_count": 121
    },
    {
     "data": {
      "text/plain": "<Figure size 432x288 with 1 Axes>",
      "image/png": "[encoded data removed]"
     },
     "metadata": {
      "needs_background": "light"
     },
     "output_type": "display_data"
    }
   ],
   "source": [
    "cleaned_2 = clean_up_single_image('media/captchas/' + random_subset[2])\n",
    "plt.imshow(cleaned_2)"
   ],
   "metadata": {
    "collapsed": false,
    "pycharm": {
     "name": "#%%\n",
     "is_executing": false
    }
   }
  },
  {
   "cell_type": "code",
   "execution_count": 122,
   "outputs": [
    {
     "data": {
      "text/plain": "<matplotlib.image.AxesImage at 0x7fb083950b10>"
     },
     "metadata": {},
     "output_type": "execute_result",
     "execution_count": 122
    },
    {
     "data": {
      "text/plain": "<Figure size 432x288 with 1 Axes>",
      "image/png": "[encoded data removed]"
     },
     "metadata": {
      "needs_background": "light"
     },
     "output_type": "display_data"
    }
   ],
   "source": [
    "cleaned_3 = clean_up_single_image('media/captchas/' + random_subset[3])\n",
    "plt.imshow(cleaned_3)"
   ],
   "metadata": {
    "collapsed": false,
    "pycharm": {
     "name": "#%%\n",
     "is_executing": false
    }
   }
  },
  {
   "cell_type": "code",
   "execution_count": 140,
   "outputs": [
    {
     "data": {
      "text/plain": "<matplotlib.image.AxesImage at 0x7fb081be1710>"
     },
     "metadata": {},
     "output_type": "execute_result",
     "execution_count": 140
    },
    {
     "data": {
      "text/plain": "<Figure size 432x288 with 1 Axes>",
      "image/png": "[encoded data removed]"
     },
     "metadata": {
      "needs_background": "light"
     },
     "output_type": "display_data"
    }
   ],
   "source": [
    "cleaned_4 = clean_up_single_image('media/captchas/' + random_subset[4])\n",
    "plt.imshow(cleaned_4)"
   ],
   "metadata": {
    "collapsed": false,
    "pycharm": {
     "name": "#%%\n",
     "is_executing": false
    }
   }
  },
  {
   "cell_type": "code",
   "execution_count": 135,
   "outputs": [
    {
     "name": "stdout",
     "text": [
      "[11, 23, 45, 68, 84]\n"
     ],
     "output_type": "stream"
    },
    {
     "data": {
      "text/plain": "<matplotlib.image.AxesImage at 0x7fb081d32ed0>"
     },
     "metadata": {},
     "output_type": "execute_result",
     "execution_count": 135
    },
    {
     "data": {
      "text/plain": "<Figure size 432x288 with 1 Axes>",
      "image/png": "[encoded data removed]"
     },
     "metadata": {
      "needs_background": "light"
     },
     "output_type": "display_data"
    }
   ],
   "source": [
    "# CAPTCHAs are always 4 symbols long, find each start and end of a letter based on\n",
    "# the assumption the clean-up worked well enough and there are clear blanks,\n",
    "# even a low double-digit success rate should be more than enough in the end\n",
    "column_sums = []\n",
    "separator_columns = []\n",
    "is_traversing_letter = False\n",
    "cleaned_4_copy = cleaned_4.copy()\n",
    "for x in range(0, 100):\n",
    "    column_sum = 0\n",
    "    for y in range(0, 50):\n",
    "        column_sum += cleaned_4_copy[y][x]\n",
    "    if not is_traversing_letter and column_sum >= (2 * 255):\n",
    "        # At least 2 coloured pixels, presume there's a letter starting here\n",
    "        separator_columns.append((x - 1))\n",
    "        is_traversing_letter = True\n",
    "    if is_traversing_letter and column_sum == 0:\n",
    "        # Blank here\n",
    "        is_traversing_letter = False\n",
    "        # Last letter ended\n",
    "        if len(separator_columns) == 4:\n",
    "            separator_columns.append(x)\n",
    "    if len(separator_columns) == 5:\n",
    "        # We have enough, stop\n",
    "        break\n",
    "print(separator_columns)\n",
    "for letter_column in separator_columns:\n",
    "    cv2.line(cleaned_4_copy, (letter_column, 0), (letter_column, 50), (255,255,255), 1)\n",
    "plt.imshow(cleaned_4_copy)"
   ],
   "metadata": {
    "collapsed": false,
    "pycharm": {
     "name": "#%%\n",
     "is_executing": false
    }
   }
  },
  {
   "cell_type": "code",
   "execution_count": 142,
   "outputs": [
    {
     "data": {
      "text/plain": "<matplotlib.image.AxesImage at 0x7fb081b1d290>"
     },
     "metadata": {},
     "output_type": "execute_result",
     "execution_count": 142
    },
    {
     "data": {
      "text/plain": "<Figure size 432x288 with 1 Axes>",
      "image/png": "[encoded data removed]"
     },
     "metadata": {
      "needs_background": "light"
     },
     "output_type": "display_data"
    }
   ],
   "source": [
    "letter_1 = cleaned_4[0:50, separator_columns[0]:separator_columns[1]]\n",
    "plt.imshow(letter_1)"
   ],
   "metadata": {
    "collapsed": false,
    "pycharm": {
     "name": "#%%\n",
     "is_executing": false
    }
   }
  },
  {
   "cell_type": "code",
   "execution_count": 143,
   "outputs": [
    {
     "data": {
      "text/plain": "<matplotlib.image.AxesImage at 0x7fb081a7a590>"
     },
     "metadata": {},
     "output_type": "execute_result",
     "execution_count": 143
    },
    {
     "data": {
      "text/plain": "<Figure size 432x288 with 1 Axes>",
      "image/png": "[encoded data removed]"
     },
     "metadata": {
      "needs_background": "light"
     },
     "output_type": "display_data"
    }
   ],
   "source": [
    "letter_2 = cleaned_4[0:50, separator_columns[1]:separator_columns[2]]\n",
    "plt.imshow(letter_2)"
   ],
   "metadata": {
    "collapsed": false,
    "pycharm": {
     "name": "#%%\n",
     "is_executing": false
    }
   }
  },
  {
   "cell_type": "code",
   "execution_count": 144,
   "outputs": [
    {
     "data": {
      "text/plain": "<matplotlib.image.AxesImage at 0x7fb081a51e10>"
     },
     "metadata": {},
     "output_type": "execute_result",
     "execution_count": 144
    },
    {
     "data": {
      "text/plain": "<Figure size 432x288 with 1 Axes>",
      "image/png": "[encoded data removed]"
     },
     "metadata": {
      "needs_background": "light"
     },
     "output_type": "display_data"
    }
   ],
   "source": [
    "letter_3 = cleaned_4[0:50, separator_columns[2]:separator_columns[3]]\n",
    "plt.imshow(letter_3)"
   ],
   "metadata": {
    "collapsed": false,
    "pycharm": {
     "name": "#%%\n",
     "is_executing": false
    }
   }
  },
  {
   "cell_type": "code",
   "execution_count": 145,
   "outputs": [
    {
     "data": {
      "text/plain": "<matplotlib.image.AxesImage at 0x7fb0819b6790>"
     },
     "metadata": {},
     "output_type": "execute_result",
     "execution_count": 145
    },
    {
     "data": {
      "text/plain": "<Figure size 432x288 with 1 Axes>",
      "image/png": "[encoded data removed]"
     },
     "metadata": {
      "needs_background": "light"
     },
     "output_type": "display_data"
    }
   ],
   "source": [
    "letter_4 = cleaned_4[0:50, separator_columns[3]:separator_columns[4]]\n",
    "plt.imshow(letter_4)\n"
   ],
   "metadata": {
    "collapsed": false,
    "pycharm": {
     "name": "#%%\n",
     "is_executing": false
    }
   }
  },
  {
   "cell_type": "code",
   "execution_count": 150,
   "outputs": [
    {
     "name": "stdout",
     "text": [
      "\n"
     ],
     "output_type": "stream"
    }
   ],
   "source": [],
   "metadata": {
    "collapsed": false,
    "pycharm": {
     "name": "#%%\n",
     "is_executing": false
    }
   }
  }
 ],
 "metadata": {
  "kernelspec": {
   "name": "python3",
   "language": "python",
   "display_name": "Python 3"
  },
  "language_info": {
   "codemirror_mode": {
    "name": "ipython",
    "version": 2
   },
   "file_extension": ".py",
   "mimetype": "text/x-python",
   "name": "python",
   "nbconvert_exporter": "python",
   "pygments_lexer": "ipython2",
   "version": "2.7.6"
  },
  "pycharm": {
   "stem_cell": {
    "cell_type": "raw",
    "source": [],
    "metadata": {
     "collapsed": false
    }
   }
  }
 },
 "nbformat": 4,
 "nbformat_minor": 0
}
